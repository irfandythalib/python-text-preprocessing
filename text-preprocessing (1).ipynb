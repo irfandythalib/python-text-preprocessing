{
 "cells": [
  {
   "cell_type": "code",
   "execution_count": 20,
   "metadata": {
    "ExecuteTime": {
     "end_time": "2022-06-18T06:59:17.049194Z",
     "start_time": "2022-06-18T06:59:17.031178Z"
    }
   },
   "outputs": [],
   "source": [
    "import numpy as np\n",
    "import nltk\n",
    "import re"
   ]
  },
  {
   "cell_type": "code",
   "execution_count": 28,
   "metadata": {
    "ExecuteTime": {
     "end_time": "2022-06-18T07:01:08.126643Z",
     "start_time": "2022-06-18T07:01:08.108643Z"
    }
   },
   "outputs": [],
   "source": [
    "sentence = \"Ini adAlah   kalimat dummy     ? * () \""
   ]
  },
  {
   "cell_type": "code",
   "execution_count": 29,
   "metadata": {
    "ExecuteTime": {
     "end_time": "2022-06-18T07:01:09.138159Z",
     "start_time": "2022-06-18T07:01:08.361010Z"
    }
   },
   "outputs": [
    {
     "name": "stdout",
     "output_type": "stream",
     "text": [
      "ini adalah   kalimat dummy     ? * () \n"
     ]
    }
   ],
   "source": [
    "#Casefold : Untuk mengubah format huruf menjadi lowercase\n",
    "sentence = sentence.casefold()\n",
    "print(sentence)"
   ]
  },
  {
   "cell_type": "code",
   "execution_count": 30,
   "metadata": {
    "ExecuteTime": {
     "end_time": "2022-06-18T07:01:09.293828Z",
     "start_time": "2022-06-18T07:01:09.140160Z"
    }
   },
   "outputs": [
    {
     "name": "stdout",
     "output_type": "stream",
     "text": [
      "ini adalah kalimat dummy ? * ()\n"
     ]
    }
   ],
   "source": [
    "#Menghapus double space\n",
    "sentence = \" \".join(sentence.split())\n",
    "print(sentence)"
   ]
  },
  {
   "cell_type": "code",
   "execution_count": 31,
   "metadata": {
    "ExecuteTime": {
     "end_time": "2022-06-18T07:01:09.402176Z",
     "start_time": "2022-06-18T07:01:09.297829Z"
    }
   },
   "outputs": [
    {
     "name": "stdout",
     "output_type": "stream",
     "text": [
      "ini adalah kalimat dummy   \n"
     ]
    }
   ],
   "source": [
    "#Remove Punctuation (tanda baca)\n",
    "sentence = re.sub(r'[^\\w\\s]', '', sentence)\n",
    "print(sentence)"
   ]
  },
  {
   "cell_type": "code",
   "execution_count": 32,
   "metadata": {
    "ExecuteTime": {
     "end_time": "2022-06-18T07:01:09.907821Z",
     "start_time": "2022-06-18T07:01:09.896824Z"
    }
   },
   "outputs": [
    {
     "data": {
      "text/plain": [
       "['ini', 'adalah', 'kalimat', 'dummy']"
      ]
     },
     "execution_count": 32,
     "metadata": {},
     "output_type": "execute_result"
    }
   ],
   "source": [
    "#Tokenisasi\n",
    "sentence = nltk.tokenize.word_tokenize(sentence)\n",
    "sentence"
   ]
  }
 ],
 "metadata": {
  "kernelspec": {
   "display_name": "Python 3",
   "language": "python",
   "name": "python3"
  },
  "language_info": {
   "codemirror_mode": {
    "name": "ipython",
    "version": 3
   },
   "file_extension": ".py",
   "mimetype": "text/x-python",
   "name": "python",
   "nbconvert_exporter": "python",
   "pygments_lexer": "ipython3",
   "version": "3.7.7"
  }
 },
 "nbformat": 4,
 "nbformat_minor": 4
}
